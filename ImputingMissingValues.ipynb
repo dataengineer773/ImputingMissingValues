{
 "cells": [
  {
   "cell_type": "code",
   "execution_count": 1,
   "id": "13a86eee-bec9-469d-843f-0aff4a268c4e",
   "metadata": {},
   "outputs": [],
   "source": [
    "# Load libraries\n",
    "import numpy as np\n",
    "from sklearn.impute import KNNImputer\n",
    "from sklearn.preprocessing import StandardScaler\n",
    "from sklearn.datasets import make_blobs"
   ]
  },
  {
   "cell_type": "code",
   "execution_count": 2,
   "id": "af2543e7-9e17-4653-b82f-8b690115ba41",
   "metadata": {},
   "outputs": [],
   "source": [
    "# Make a simulated feature matrix\n",
    "features, _ = make_blobs(n_samples = 1000,\n",
    "n_features = 2,\n",
    "random_state = 1)"
   ]
  },
  {
   "cell_type": "code",
   "execution_count": 3,
   "id": "22c7c028-f1d6-4086-b13f-7dec2a75ca03",
   "metadata": {},
   "outputs": [],
   "source": [
    "# Standardize the features\n",
    "scaler = StandardScaler()\n",
    "standardized_features = scaler.fit_transform(features)"
   ]
  },
  {
   "cell_type": "code",
   "execution_count": 4,
   "id": "b7875cbf-8166-4966-a707-1c7c48a25302",
   "metadata": {},
   "outputs": [],
   "source": [
    "# Replace the first feature's first value with a missing value\n",
    "true_value = standardized_features[0,0]\n",
    "standardized_features[0,0] = np.nan"
   ]
  },
  {
   "cell_type": "code",
   "execution_count": 5,
   "id": "5b15eec2-eef5-481c-a5cf-d2b9ce88b5a8",
   "metadata": {},
   "outputs": [],
   "source": [
    "# Predict the missing values in the feature matrix\n",
    "knn_imputer = KNNImputer(n_neighbors=5)\n",
    "features_knn_imputed = knn_imputer.fit_transform(standardized_features)"
   ]
  },
  {
   "cell_type": "code",
   "execution_count": 6,
   "id": "33154a66-514c-4829-8758-e09daefe0a38",
   "metadata": {},
   "outputs": [
    {
     "name": "stdout",
     "output_type": "stream",
     "text": [
      "True Value: 0.8730186113995938\n",
      "Imputed Value: 1.0959262913919632\n"
     ]
    }
   ],
   "source": [
    "# Compare true and imputed values\n",
    "print(\"True Value:\", true_value)\n",
    "print(\"Imputed Value:\", features_knn_imputed[0,0])"
   ]
  },
  {
   "cell_type": "code",
   "execution_count": 7,
   "id": "a455a983-1416-4b48-a6d5-bc5a1d3699c8",
   "metadata": {},
   "outputs": [],
   "source": [
    "# Load library\n",
    "import numpy as np\n",
    "from sklearn.impute import SimpleImputer\n",
    "from sklearn.preprocessing import StandardScaler\n",
    "from sklearn.datasets import make_blobs"
   ]
  },
  {
   "cell_type": "code",
   "execution_count": 8,
   "id": "308726b4-e1a3-461e-8600-45347547f228",
   "metadata": {},
   "outputs": [],
   "source": [
    "# Make a simulated feature matrix\n",
    "features, _ = make_blobs(n_samples = 1000,\n",
    "n_features = 2,\n",
    "random_state = 1)"
   ]
  },
  {
   "cell_type": "code",
   "execution_count": 9,
   "id": "bd1daffa-39be-4a71-bb42-fcad5ee39917",
   "metadata": {},
   "outputs": [],
   "source": [
    "# Standardize the features\n",
    "scaler = StandardScaler()\n",
    "standardized_features = scaler.fit_transform(features)"
   ]
  },
  {
   "cell_type": "code",
   "execution_count": 10,
   "id": "eba6ba8c-dd77-45d6-a87f-8d94451701e8",
   "metadata": {},
   "outputs": [],
   "source": [
    "# Replace the first feature's first value with a missing value\n",
    "true_value = standardized_features[0,0]\n",
    "standardized_features[0,0] = np.nan"
   ]
  },
  {
   "cell_type": "code",
   "execution_count": 11,
   "id": "a8d1055b-5594-4d23-950e-21767e812edb",
   "metadata": {},
   "outputs": [],
   "source": [
    "# Create imputer using the \"mean\" strategy\n",
    "mean_imputer = SimpleImputer(strategy=\"mean\")"
   ]
  },
  {
   "cell_type": "code",
   "execution_count": 12,
   "id": "8953a2c6-12c9-4cff-80ec-9cdd464260cd",
   "metadata": {},
   "outputs": [],
   "source": [
    "# Impute values\n",
    "features_mean_imputed = mean_imputer.fit_transform(features)"
   ]
  },
  {
   "cell_type": "code",
   "execution_count": 13,
   "id": "f037771b-45c4-4012-9d85-3da6baf89d46",
   "metadata": {},
   "outputs": [
    {
     "name": "stdout",
     "output_type": "stream",
     "text": [
      "True Value: 0.8730186113995938\n",
      "Imputed Value: -3.058372724614996\n"
     ]
    }
   ],
   "source": [
    "# Compare true and imputed values\n",
    "print(\"True Value:\", true_value)\n",
    "print(\"Imputed Value:\", features_mean_imputed[0,0])"
   ]
  },
  {
   "cell_type": "code",
   "execution_count": null,
   "id": "aaca16a2-8f73-40b9-a0a6-c190f9f038c4",
   "metadata": {},
   "outputs": [],
   "source": []
  }
 ],
 "metadata": {
  "kernelspec": {
   "display_name": "Python 3 (ipykernel)",
   "language": "python",
   "name": "python3"
  },
  "language_info": {
   "codemirror_mode": {
    "name": "ipython",
    "version": 3
   },
   "file_extension": ".py",
   "mimetype": "text/x-python",
   "name": "python",
   "nbconvert_exporter": "python",
   "pygments_lexer": "ipython3",
   "version": "3.12.3"
  }
 },
 "nbformat": 4,
 "nbformat_minor": 5
}
